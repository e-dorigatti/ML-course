{
 "cells": [
  {
   "cell_type": "markdown",
   "metadata": {
    "collapsed": true,
    "slideshow": {
     "slide_type": "slide"
    }
   },
   "source": [
    "# Learning deep representations with Neural Networks\n",
    "\n",
    "## Introduction and Artificial Neural Network"
   ]
  },
  {
   "cell_type": "markdown",
   "metadata": {
    "collapsed": true,
    "slideshow": {
     "slide_type": "slide"
    }
   },
   "source": [
    "## Agenda\n",
    "\n",
    "- **Introduction and Motivation**\n",
    "- Artificial Neuron\n",
    "- Gradient Descent\n",
    "- Backpropagation\n",
    "- Perceptron\n",
    "- Multilayered Perceptron\n",
    "- MLP Classification\n",
    "\n",
    "- Convolutional Neural Networks\n",
    "- Recurrent Neural Networks\n",
    "\n"
   ]
  },
  {
   "cell_type": "markdown",
   "metadata": {
    "collapsed": true,
    "slideshow": {
     "slide_type": "slide"
    }
   },
   "source": [
    "### *Introduction and motivation*\n",
    "\n",
    "## Deep Learning motivation (1/3)\n",
    "\n",
    "- For some machine learning problems the input data is high dimensional\n",
    "- Examples:\n",
    "\n",
    "???"
   ]
  },
  {
   "cell_type": "markdown",
   "metadata": {
    "slideshow": {
     "slide_type": "slide"
    }
   },
   "source": [
    "### *Introduction and motivation*\n",
    "\n",
    "## Deep Learning motivation (1/3)\n",
    "\n",
    "- For some maachine learning problems the input data is high dimensional\n",
    "- Examples:\n",
    "\n",
    "### Speech\n",
    "![Speech recording visulization](images/speech.jpg)\n"
   ]
  },
  {
   "cell_type": "markdown",
   "metadata": {
    "slideshow": {
     "slide_type": "fragment"
    }
   },
   "source": [
    "### Image Analysis\n",
    "![Yolo image](images/yolo2.png)\n",
    "\n",
    "\n",
    "\n"
   ]
  },
  {
   "cell_type": "markdown",
   "metadata": {
    "slideshow": {
     "slide_type": "slide"
    }
   },
   "source": [
    "### *Introduction and motivation*\n",
    "\n",
    "## Deep Learning motivation (2/3)\n",
    "\n",
    "- Why is high dimensional data difficult to model?\n",
    "\n",
    "![Breast cancer](images/bca-high.png)\n"
   ]
  },
  {
   "cell_type": "markdown",
   "metadata": {
    "slideshow": {
     "slide_type": "fragment"
    }
   },
   "source": [
    "- Why is high dimensional data difficult to model?\n",
    "\n",
    "![Breast cancer](images/bca-low.png)\n"
   ]
  },
  {
   "cell_type": "markdown",
   "metadata": {
    "slideshow": {
     "slide_type": "fragment"
    }
   },
   "source": [
    "- High dimensional feature space\n",
    "- Individual features weakly correlated with the target\n",
    "- Good representations are difficult to engineer"
   ]
  },
  {
   "cell_type": "markdown",
   "metadata": {
    "collapsed": true,
    "slideshow": {
     "slide_type": "slide"
    }
   },
   "source": [
    "### *Introduction and motivation*\n",
    "\n",
    "## Deep Learning motivation (3/3)\n",
    "\n",
    "### Learning Representations\n"
   ]
  },
  {
   "cell_type": "markdown",
   "metadata": {
    "slideshow": {
     "slide_type": "fragment"
    }
   },
   "source": [
    "#### Distributed Representations\n",
    "![Distributed Representations](images/distributed-representation.png)\n",
    "\n"
   ]
  },
  {
   "cell_type": "markdown",
   "metadata": {
    "slideshow": {
     "slide_type": "fragment"
    }
   },
   "source": [
    "#### Deep Hierarchical Models\n",
    "![mnist-digits](images/mnistdigits.gif)\n"
   ]
  },
  {
   "cell_type": "markdown",
   "metadata": {
    "slideshow": {
     "slide_type": "fragment"
    }
   },
   "source": [
    "#### MNIST Activations\n",
    "![mnist-activation](images/mnist-activation.png)\n"
   ]
  },
  {
   "cell_type": "markdown",
   "metadata": {
    "slideshow": {
     "slide_type": "fragment"
    }
   },
   "source": [
    "#### MNIST Activation Maximization \n",
    "![mnist-activation-maximization](images/mnist-activation-maximization.png)"
   ]
  }
 ],
 "metadata": {
  "anaconda-cloud": {},
  "celltoolbar": "Slideshow",
  "kernelspec": {
   "display_name": "Python [default]",
   "language": "python",
   "name": "python3"
  },
  "language_info": {
   "codemirror_mode": {
    "name": "ipython",
    "version": 3
   },
   "file_extension": ".py",
   "mimetype": "text/x-python",
   "name": "python",
   "nbconvert_exporter": "python",
   "pygments_lexer": "ipython3",
   "version": "3.5.2"
  }
 },
 "nbformat": 4,
 "nbformat_minor": 1
}
